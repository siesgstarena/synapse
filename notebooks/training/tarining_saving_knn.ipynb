{
 "cells": [
  {
   "cell_type": "code",
   "execution_count": 164,
   "metadata": {},
   "outputs": [],
   "source": [
    "import pandas as pd\n",
    "import numpy as np"
   ]
  },
  {
   "cell_type": "code",
   "execution_count": 165,
   "metadata": {},
   "outputs": [
    {
     "data": {
      "text/html": [
       "<div>\n",
       "<style scoped>\n",
       "    .dataframe tbody tr th:only-of-type {\n",
       "        vertical-align: middle;\n",
       "    }\n",
       "\n",
       "    .dataframe tbody tr th {\n",
       "        vertical-align: top;\n",
       "    }\n",
       "\n",
       "    .dataframe thead th {\n",
       "        text-align: right;\n",
       "    }\n",
       "</style>\n",
       "<table border=\"1\" class=\"dataframe\">\n",
       "  <thead>\n",
       "    <tr style=\"text-align: right;\">\n",
       "      <th></th>\n",
       "      <th>problemId</th>\n",
       "      <th>C</th>\n",
       "      <th>C++</th>\n",
       "      <th>Go</th>\n",
       "      <th>Java</th>\n",
       "      <th>Javascript</th>\n",
       "      <th>Python</th>\n",
       "      <th>Python3</th>\n",
       "    </tr>\n",
       "  </thead>\n",
       "  <tbody>\n",
       "    <tr>\n",
       "      <th>0</th>\n",
       "      <td>5b5c8cd7276e2200208fed62</td>\n",
       "      <td>0.708418</td>\n",
       "      <td>0.741621</td>\n",
       "      <td>0.674481</td>\n",
       "      <td>0.730613</td>\n",
       "      <td>0.674481</td>\n",
       "      <td>0.674481</td>\n",
       "      <td>0.763862</td>\n",
       "    </tr>\n",
       "    <tr>\n",
       "      <th>1</th>\n",
       "      <td>5b645f711b2cd40020b6c771</td>\n",
       "      <td>0.697211</td>\n",
       "      <td>0.780235</td>\n",
       "      <td>0.663106</td>\n",
       "      <td>0.698383</td>\n",
       "      <td>0.663106</td>\n",
       "      <td>0.890666</td>\n",
       "      <td>0.741500</td>\n",
       "    </tr>\n",
       "    <tr>\n",
       "      <th>2</th>\n",
       "      <td>5b649819c0b1b80020eb30e1</td>\n",
       "      <td>0.782912</td>\n",
       "      <td>0.729926</td>\n",
       "      <td>0.697609</td>\n",
       "      <td>0.702172</td>\n",
       "      <td>0.697609</td>\n",
       "      <td>0.697609</td>\n",
       "      <td>0.747527</td>\n",
       "    </tr>\n",
       "    <tr>\n",
       "      <th>3</th>\n",
       "      <td>5b64600d1b2cd40020b6c772</td>\n",
       "      <td>0.736975</td>\n",
       "      <td>0.736975</td>\n",
       "      <td>0.624211</td>\n",
       "      <td>0.701462</td>\n",
       "      <td>0.624211</td>\n",
       "      <td>0.624211</td>\n",
       "      <td>0.736975</td>\n",
       "    </tr>\n",
       "    <tr>\n",
       "      <th>4</th>\n",
       "      <td>5b6c3ec18cab100020e963b7</td>\n",
       "      <td>0.707936</td>\n",
       "      <td>0.753305</td>\n",
       "      <td>0.676529</td>\n",
       "      <td>0.738346</td>\n",
       "      <td>0.676529</td>\n",
       "      <td>0.676529</td>\n",
       "      <td>0.785069</td>\n",
       "    </tr>\n",
       "    <tr>\n",
       "      <th>...</th>\n",
       "      <td>...</td>\n",
       "      <td>...</td>\n",
       "      <td>...</td>\n",
       "      <td>...</td>\n",
       "      <td>...</td>\n",
       "      <td>...</td>\n",
       "      <td>...</td>\n",
       "      <td>...</td>\n",
       "    </tr>\n",
       "    <tr>\n",
       "      <th>199</th>\n",
       "      <td>63361b9a125f8a00222e06ef</td>\n",
       "      <td>0.660756</td>\n",
       "      <td>0.791391</td>\n",
       "      <td>0.660756</td>\n",
       "      <td>0.880797</td>\n",
       "      <td>0.660756</td>\n",
       "      <td>0.660756</td>\n",
       "      <td>0.660756</td>\n",
       "    </tr>\n",
       "    <tr>\n",
       "      <th>200</th>\n",
       "      <td>633620e3fe6e62002205e71e</td>\n",
       "      <td>0.669491</td>\n",
       "      <td>0.738728</td>\n",
       "      <td>0.669491</td>\n",
       "      <td>0.669491</td>\n",
       "      <td>0.669491</td>\n",
       "      <td>0.669491</td>\n",
       "      <td>0.669491</td>\n",
       "    </tr>\n",
       "    <tr>\n",
       "      <th>201</th>\n",
       "      <td>6336ad26ee62f10022c977c2</td>\n",
       "      <td>0.705785</td>\n",
       "      <td>0.747667</td>\n",
       "      <td>0.705785</td>\n",
       "      <td>0.705785</td>\n",
       "      <td>0.705785</td>\n",
       "      <td>0.705785</td>\n",
       "      <td>0.705785</td>\n",
       "    </tr>\n",
       "    <tr>\n",
       "      <th>202</th>\n",
       "      <td>6336b760ee62f10022c97c37</td>\n",
       "      <td>0.683354</td>\n",
       "      <td>0.759061</td>\n",
       "      <td>0.683354</td>\n",
       "      <td>0.683354</td>\n",
       "      <td>0.683354</td>\n",
       "      <td>0.683354</td>\n",
       "      <td>0.683354</td>\n",
       "    </tr>\n",
       "    <tr>\n",
       "      <th>203</th>\n",
       "      <td>6336c0b1f9be3c00226020f2</td>\n",
       "      <td>0.731059</td>\n",
       "      <td>0.731059</td>\n",
       "      <td>0.731059</td>\n",
       "      <td>0.731059</td>\n",
       "      <td>0.731059</td>\n",
       "      <td>0.731059</td>\n",
       "      <td>0.731059</td>\n",
       "    </tr>\n",
       "  </tbody>\n",
       "</table>\n",
       "<p>204 rows × 8 columns</p>\n",
       "</div>"
      ],
      "text/plain": [
       "                    problemId         C       C++        Go      Java  \\\n",
       "0    5b5c8cd7276e2200208fed62  0.708418  0.741621  0.674481  0.730613   \n",
       "1    5b645f711b2cd40020b6c771  0.697211  0.780235  0.663106  0.698383   \n",
       "2    5b649819c0b1b80020eb30e1  0.782912  0.729926  0.697609  0.702172   \n",
       "3    5b64600d1b2cd40020b6c772  0.736975  0.736975  0.624211  0.701462   \n",
       "4    5b6c3ec18cab100020e963b7  0.707936  0.753305  0.676529  0.738346   \n",
       "..                        ...       ...       ...       ...       ...   \n",
       "199  63361b9a125f8a00222e06ef  0.660756  0.791391  0.660756  0.880797   \n",
       "200  633620e3fe6e62002205e71e  0.669491  0.738728  0.669491  0.669491   \n",
       "201  6336ad26ee62f10022c977c2  0.705785  0.747667  0.705785  0.705785   \n",
       "202  6336b760ee62f10022c97c37  0.683354  0.759061  0.683354  0.683354   \n",
       "203  6336c0b1f9be3c00226020f2  0.731059  0.731059  0.731059  0.731059   \n",
       "\n",
       "     Javascript    Python   Python3  \n",
       "0      0.674481  0.674481  0.763862  \n",
       "1      0.663106  0.890666  0.741500  \n",
       "2      0.697609  0.697609  0.747527  \n",
       "3      0.624211  0.624211  0.736975  \n",
       "4      0.676529  0.676529  0.785069  \n",
       "..          ...       ...       ...  \n",
       "199    0.660756  0.660756  0.660756  \n",
       "200    0.669491  0.669491  0.669491  \n",
       "201    0.705785  0.705785  0.705785  \n",
       "202    0.683354  0.683354  0.683354  \n",
       "203    0.731059  0.731059  0.731059  \n",
       "\n",
       "[204 rows x 8 columns]"
      ]
     },
     "execution_count": 165,
     "metadata": {},
     "output_type": "execute_result"
    }
   ],
   "source": [
    "col_name = [\"ProblemId\",\"C\",\"C++\",\"Go\",\"Java\",\"Javascript\",\"Python\",\"Python3\"]\n",
    "df = pd.read_csv('../../data/processed/success_score.csv')\n",
    "df.rename(columns = {'Unnamed: 0':'problemId'}, inplace = True)\n",
    "df"
   ]
  },
  {
   "cell_type": "code",
   "execution_count": 166,
   "metadata": {},
   "outputs": [],
   "source": [
    "import pickle\n",
    "def save_model(model, model_name):\n",
    "    with open('../../models/'+model_name+'.pkl', 'wb') as file:\n",
    "        pickle.dump(model, file)"
   ]
  },
  {
   "cell_type": "code",
   "execution_count": 167,
   "metadata": {},
   "outputs": [],
   "source": [
    "import pickle\n",
    "def load_model(model_name):\n",
    "    with open('../../models/'+model_name+'.pkl', 'rb') as file:\n",
    "        model = pickle.load(file)\n",
    "    return model"
   ]
  },
  {
   "cell_type": "code",
   "execution_count": 168,
   "metadata": {},
   "outputs": [],
   "source": [
    "from sklearn.neighbors import KNeighborsClassifier as KNN\n",
    "def train_knn(df, n_neighbors, algorithm, model_name):\n",
    "    X = df.drop('problemId', axis=1)\n",
    "    Y = df['problemId']\n",
    "    knn = KNN(n_neighbors = n_neighbors+1, algorithm = algorithm) \n",
    "    knn.fit(X, Y)\n",
    "    save_model(knn, model_name)"
   ]
  },
  {
   "cell_type": "code",
   "execution_count": 169,
   "metadata": {},
   "outputs": [],
   "source": [
    "train_knn(df, 3, 'ball_tree', 'knn_ball_tree')"
   ]
  },
  {
   "cell_type": "code",
   "execution_count": 170,
   "metadata": {},
   "outputs": [],
   "source": [
    "import numpy as np\n",
    "def knn_recommend(problemId, n_neighbors,df, knn):\n",
    "    Y = df['problemId']\n",
    "    to_predict = np.array(df[df['problemId']==problemId].drop('problemId', axis=1)).reshape(1, -1)\n",
    "    distances, indices = knn.kneighbors(to_predict, n_neighbors=n_neighbors+1)\n",
    "    rec = []\n",
    "    for i in indices[0]:\n",
    "        if Y.iloc[i] != problemId:\n",
    "            rec.append(Y.iloc[i])\n",
    "    return rec"
   ]
  },
  {
   "cell_type": "code",
   "execution_count": 171,
   "metadata": {},
   "outputs": [
    {
     "name": "stderr",
     "output_type": "stream",
     "text": [
      "c:\\Users\\salman\\OneDrive\\Desktop\\Recommendation-system\\env\\lib\\site-packages\\sklearn\\base.py:409: UserWarning: X does not have valid feature names, but KNeighborsClassifier was fitted with feature names\n",
      "  warnings.warn(\n"
     ]
    },
    {
     "data": {
      "text/plain": [
       "['6335f3dd125f8a00222e06eb',\n",
       " '6256b3db9f86540024c5653f',\n",
       " '5f6ad8a34bf84b0022982aff']"
      ]
     },
     "execution_count": 171,
     "metadata": {},
     "output_type": "execute_result"
    }
   ],
   "source": [
    "knn_recommend('6336b760ee62f10022c97c37', 3,df, load_model('knn_model_3_ball_tree'))"
   ]
  },
  {
   "cell_type": "code",
   "execution_count": null,
   "metadata": {},
   "outputs": [],
   "source": []
  }
 ],
 "metadata": {
  "kernelspec": {
   "display_name": "env",
   "language": "python",
   "name": "python3"
  },
  "language_info": {
   "codemirror_mode": {
    "name": "ipython",
    "version": 3
   },
   "file_extension": ".py",
   "mimetype": "text/x-python",
   "name": "python",
   "nbconvert_exporter": "python",
   "pygments_lexer": "ipython3",
   "version": "3.9.7"
  },
  "orig_nbformat": 4,
  "vscode": {
   "interpreter": {
    "hash": "20ede813b8b91b7ed92965058d9426b40be336d8583f91e819ff40b172e984aa"
   }
  }
 },
 "nbformat": 4,
 "nbformat_minor": 2
}
