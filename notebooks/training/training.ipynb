{
 "cells": [
  {
   "cell_type": "code",
   "execution_count": 44,
   "metadata": {},
   "outputs": [],
   "source": [
    "import pandas as pd\n",
    "import numpy as np\n",
    "import matplotlib.pyplot as plt\n",
    "import seaborn as sns\n",
    "\n",
    "%matplotlib inline"
   ]
  },
  {
   "cell_type": "code",
   "execution_count": 45,
   "metadata": {},
   "outputs": [
    {
     "data": {
      "text/html": [
       "<div>\n",
       "<style scoped>\n",
       "    .dataframe tbody tr th:only-of-type {\n",
       "        vertical-align: middle;\n",
       "    }\n",
       "\n",
       "    .dataframe tbody tr th {\n",
       "        vertical-align: top;\n",
       "    }\n",
       "\n",
       "    .dataframe thead th {\n",
       "        text-align: right;\n",
       "    }\n",
       "</style>\n",
       "<table border=\"1\" class=\"dataframe\">\n",
       "  <thead>\n",
       "    <tr style=\"text-align: right;\">\n",
       "      <th></th>\n",
       "      <th>problemId</th>\n",
       "      <th>C</th>\n",
       "      <th>C++</th>\n",
       "      <th>Go</th>\n",
       "      <th>Java</th>\n",
       "      <th>Javascript</th>\n",
       "      <th>Python</th>\n",
       "      <th>Python3</th>\n",
       "    </tr>\n",
       "  </thead>\n",
       "  <tbody>\n",
       "    <tr>\n",
       "      <th>0</th>\n",
       "      <td>5b5c8cd7276e2200208fed62</td>\n",
       "      <td>0.708418</td>\n",
       "      <td>0.741621</td>\n",
       "      <td>0.674481</td>\n",
       "      <td>0.730613</td>\n",
       "      <td>0.674481</td>\n",
       "      <td>0.674481</td>\n",
       "      <td>0.763862</td>\n",
       "    </tr>\n",
       "    <tr>\n",
       "      <th>1</th>\n",
       "      <td>5b645f711b2cd40020b6c771</td>\n",
       "      <td>0.697211</td>\n",
       "      <td>0.780235</td>\n",
       "      <td>0.663106</td>\n",
       "      <td>0.698383</td>\n",
       "      <td>0.663106</td>\n",
       "      <td>0.890666</td>\n",
       "      <td>0.741500</td>\n",
       "    </tr>\n",
       "    <tr>\n",
       "      <th>2</th>\n",
       "      <td>5b649819c0b1b80020eb30e1</td>\n",
       "      <td>0.782912</td>\n",
       "      <td>0.729926</td>\n",
       "      <td>0.697609</td>\n",
       "      <td>0.702172</td>\n",
       "      <td>0.697609</td>\n",
       "      <td>0.697609</td>\n",
       "      <td>0.747527</td>\n",
       "    </tr>\n",
       "    <tr>\n",
       "      <th>3</th>\n",
       "      <td>5b64600d1b2cd40020b6c772</td>\n",
       "      <td>0.736975</td>\n",
       "      <td>0.736975</td>\n",
       "      <td>0.624211</td>\n",
       "      <td>0.701462</td>\n",
       "      <td>0.624211</td>\n",
       "      <td>0.624211</td>\n",
       "      <td>0.736975</td>\n",
       "    </tr>\n",
       "    <tr>\n",
       "      <th>4</th>\n",
       "      <td>5b6c3ec18cab100020e963b7</td>\n",
       "      <td>0.707936</td>\n",
       "      <td>0.753305</td>\n",
       "      <td>0.676529</td>\n",
       "      <td>0.738346</td>\n",
       "      <td>0.676529</td>\n",
       "      <td>0.676529</td>\n",
       "      <td>0.785069</td>\n",
       "    </tr>\n",
       "    <tr>\n",
       "      <th>...</th>\n",
       "      <td>...</td>\n",
       "      <td>...</td>\n",
       "      <td>...</td>\n",
       "      <td>...</td>\n",
       "      <td>...</td>\n",
       "      <td>...</td>\n",
       "      <td>...</td>\n",
       "      <td>...</td>\n",
       "    </tr>\n",
       "    <tr>\n",
       "      <th>199</th>\n",
       "      <td>63361b9a125f8a00222e06ef</td>\n",
       "      <td>0.660756</td>\n",
       "      <td>0.791391</td>\n",
       "      <td>0.660756</td>\n",
       "      <td>0.880797</td>\n",
       "      <td>0.660756</td>\n",
       "      <td>0.660756</td>\n",
       "      <td>0.660756</td>\n",
       "    </tr>\n",
       "    <tr>\n",
       "      <th>200</th>\n",
       "      <td>633620e3fe6e62002205e71e</td>\n",
       "      <td>0.669491</td>\n",
       "      <td>0.738728</td>\n",
       "      <td>0.669491</td>\n",
       "      <td>0.669491</td>\n",
       "      <td>0.669491</td>\n",
       "      <td>0.669491</td>\n",
       "      <td>0.669491</td>\n",
       "    </tr>\n",
       "    <tr>\n",
       "      <th>201</th>\n",
       "      <td>6336ad26ee62f10022c977c2</td>\n",
       "      <td>0.705785</td>\n",
       "      <td>0.747667</td>\n",
       "      <td>0.705785</td>\n",
       "      <td>0.705785</td>\n",
       "      <td>0.705785</td>\n",
       "      <td>0.705785</td>\n",
       "      <td>0.705785</td>\n",
       "    </tr>\n",
       "    <tr>\n",
       "      <th>202</th>\n",
       "      <td>6336b760ee62f10022c97c37</td>\n",
       "      <td>0.683354</td>\n",
       "      <td>0.759061</td>\n",
       "      <td>0.683354</td>\n",
       "      <td>0.683354</td>\n",
       "      <td>0.683354</td>\n",
       "      <td>0.683354</td>\n",
       "      <td>0.683354</td>\n",
       "    </tr>\n",
       "    <tr>\n",
       "      <th>203</th>\n",
       "      <td>6336c0b1f9be3c00226020f2</td>\n",
       "      <td>0.731059</td>\n",
       "      <td>0.731059</td>\n",
       "      <td>0.731059</td>\n",
       "      <td>0.731059</td>\n",
       "      <td>0.731059</td>\n",
       "      <td>0.731059</td>\n",
       "      <td>0.731059</td>\n",
       "    </tr>\n",
       "  </tbody>\n",
       "</table>\n",
       "<p>204 rows × 8 columns</p>\n",
       "</div>"
      ],
      "text/plain": [
       "                    problemId         C       C++        Go      Java  \\\n",
       "0    5b5c8cd7276e2200208fed62  0.708418  0.741621  0.674481  0.730613   \n",
       "1    5b645f711b2cd40020b6c771  0.697211  0.780235  0.663106  0.698383   \n",
       "2    5b649819c0b1b80020eb30e1  0.782912  0.729926  0.697609  0.702172   \n",
       "3    5b64600d1b2cd40020b6c772  0.736975  0.736975  0.624211  0.701462   \n",
       "4    5b6c3ec18cab100020e963b7  0.707936  0.753305  0.676529  0.738346   \n",
       "..                        ...       ...       ...       ...       ...   \n",
       "199  63361b9a125f8a00222e06ef  0.660756  0.791391  0.660756  0.880797   \n",
       "200  633620e3fe6e62002205e71e  0.669491  0.738728  0.669491  0.669491   \n",
       "201  6336ad26ee62f10022c977c2  0.705785  0.747667  0.705785  0.705785   \n",
       "202  6336b760ee62f10022c97c37  0.683354  0.759061  0.683354  0.683354   \n",
       "203  6336c0b1f9be3c00226020f2  0.731059  0.731059  0.731059  0.731059   \n",
       "\n",
       "     Javascript    Python   Python3  \n",
       "0      0.674481  0.674481  0.763862  \n",
       "1      0.663106  0.890666  0.741500  \n",
       "2      0.697609  0.697609  0.747527  \n",
       "3      0.624211  0.624211  0.736975  \n",
       "4      0.676529  0.676529  0.785069  \n",
       "..          ...       ...       ...  \n",
       "199    0.660756  0.660756  0.660756  \n",
       "200    0.669491  0.669491  0.669491  \n",
       "201    0.705785  0.705785  0.705785  \n",
       "202    0.683354  0.683354  0.683354  \n",
       "203    0.731059  0.731059  0.731059  \n",
       "\n",
       "[204 rows x 8 columns]"
      ]
     },
     "execution_count": 45,
     "metadata": {},
     "output_type": "execute_result"
    }
   ],
   "source": [
    "col_name = [\"ProblemId\",\"C\",\"C++\",\"Go\",\"Java\",\"Javascript\",\"Python\",\"Python3\"]\n",
    "df = pd.read_csv('../../data/processed/success_score.csv')\n",
    "df.rename(columns = {'Unnamed: 0':'problemId'}, inplace = True)\n",
    "df"
   ]
  },
  {
   "cell_type": "code",
   "execution_count": 46,
   "metadata": {},
   "outputs": [],
   "source": [
    "# knn\n",
    "from sklearn.neighbors import KNeighborsClassifier\n",
    "from sklearn.neighbors import KNeighborsRegressor\n",
    "from sklearn.model_selection import train_test_split\n",
    "from sklearn.metrics import classification_report, confusion_matrix\n",
    "from sklearn.neighbors import NearestNeighbors\n",
    "X = df.drop('problemId', axis=1)\n",
    "y = df['problemId']"
   ]
  },
  {
   "cell_type": "code",
   "execution_count": 47,
   "metadata": {},
   "outputs": [],
   "source": [
    "X_train, X_test, y_train, y_test = train_test_split(X, y, test_size = 0.20)"
   ]
  },
  {
   "cell_type": "code",
   "execution_count": 48,
   "metadata": {},
   "outputs": [
    {
     "data": {
      "text/plain": [
       "(163, 7)"
      ]
     },
     "execution_count": 48,
     "metadata": {},
     "output_type": "execute_result"
    }
   ],
   "source": [
    "X_train.shape"
   ]
  },
  {
   "cell_type": "code",
   "execution_count": 49,
   "metadata": {},
   "outputs": [
    {
     "data": {
      "text/plain": [
       "(163,)"
      ]
     },
     "execution_count": 49,
     "metadata": {},
     "output_type": "execute_result"
    }
   ],
   "source": [
    "y_train.shape"
   ]
  },
  {
   "cell_type": "code",
   "execution_count": 50,
   "metadata": {},
   "outputs": [],
   "source": [
    "model = NearestNeighbors(n_neighbors=5, algorithm='ball_tree').fit(X_train)"
   ]
  },
  {
   "cell_type": "code",
   "execution_count": 51,
   "metadata": {},
   "outputs": [
    {
     "data": {
      "text/plain": [
       "array([[1., 0., 0., ..., 1., 0., 0.],\n",
       "       [0., 1., 0., ..., 0., 0., 0.],\n",
       "       [0., 0., 1., ..., 0., 0., 0.],\n",
       "       ...,\n",
       "       [0., 0., 0., ..., 1., 0., 0.],\n",
       "       [0., 0., 0., ..., 0., 0., 0.],\n",
       "       [0., 0., 0., ..., 0., 0., 1.]])"
      ]
     },
     "execution_count": 51,
     "metadata": {},
     "output_type": "execute_result"
    }
   ],
   "source": [
    "model.kneighbors_graph(X_train).toarray()"
   ]
  },
  {
   "cell_type": "code",
   "execution_count": 52,
   "metadata": {},
   "outputs": [],
   "source": [
    "distances, indices = model.kneighbors(X_train)"
   ]
  },
  {
   "cell_type": "code",
   "execution_count": 53,
   "metadata": {},
   "outputs": [
    {
     "name": "stdout",
     "output_type": "stream",
     "text": [
      "[  0  45 106 160 153] [0.         0.27303942 0.2860976  0.28881179 0.29434673]\n",
      "[  1  48 110  96   4] [0.         0.03590839 0.03628179 0.05347309 0.07706868]\n",
      "[  2   5 141 102 148] [0.         0.01703964 0.01825698 0.01951469 0.02283956]\n",
      "[  3  70 107 152 132] [0.         0.08459028 0.09163266 0.12577626 0.12675238]\n",
      "[  4  38   1  48 110] [0.         0.07311858 0.07706868 0.07941318 0.08942392]\n",
      "[  5 102 118  35   2] [0.         0.00254774 0.00794253 0.01213201 0.01703964]\n",
      "[  6 109  59  23   7] [0.         0.07762438 0.11257771 0.19242986 0.19424262]\n",
      "[  7  16 108  11  65] [0.         0.01457818 0.01519203 0.0155894  0.01674292]\n",
      "[  8 111  49  84   4] [0.         0.05608372 0.09615326 0.09845509 0.11420632]\n",
      "[14 76 83  9 51] [0. 0. 0. 0. 0.]\n",
      "[ 10 128  41 139  30] [0.         0.04545835 0.05060964 0.0585919  0.06593168]\n",
      "[ 11 108   7  16 142] [0.         0.01166571 0.0155894  0.01634012 0.01925543]\n",
      "[ 12 156  84 127  37] [0.         0.02417308 0.0507246  0.06762428 0.10028236]\n",
      "[13 85 32 40 18] [0.         0.02363286 0.03395262 0.03449114 0.03809245]\n",
      "[14 76 83  9 51] [0. 0. 0. 0. 0.]\n",
      "[ 15 134 114 142  40] [0.         0.02684041 0.02757142 0.02829099 0.03047744]\n",
      "[ 16  65   7 108  11] [0.         0.012619   0.01457818 0.01603249 0.01634012]\n",
      "[ 17 122 150  61 142] [0.         0.01308851 0.02503374 0.0295907  0.03157544]\n",
      "[18 85 13 99 79] [0.         0.03092451 0.03809245 0.04422205 0.04839795]\n",
      "[ 19 145  80  27 136] [0.         0.03757579 0.06217256 0.06267261 0.06379513]\n",
      "[ 20 124  46  54  86] [0.         0.01735415 0.03432052 0.04585859 0.0460172 ]\n",
      "[ 21 119 126  73  81] [0.         0.06640724 0.07865873 0.08184998 0.08650321]\n",
      "[ 22  52 123  79 105] [0.         0.06264723 0.06663949 0.08141311 0.08187369]\n",
      "[ 23 129 142  27   7] [0.         0.03313325 0.03522341 0.03757517 0.0396473 ]\n",
      "[ 24 138 101 116 125] [0.         0.06223916 0.0654786  0.06993232 0.0752952 ]\n",
      "[ 25 142 112 146  36] [0.         0.02263693 0.02470542 0.02676822 0.02792814]\n",
      "[ 26  93  61  40 114] [0.         0.02792147 0.02891364 0.02901827 0.03482525]\n",
      "[ 27 136  23  15  80] [0.         0.02713125 0.03757517 0.04702392 0.05093439]\n",
      "[ 28 100 146 151 162] [0.         0.02615164 0.03139995 0.03397172 0.03900907]\n",
      "[ 29 144  37 159  58] [0.         0.0158096  0.01853962 0.04458486 0.06132867]\n",
      "[30 41 42 75 55] [0.         0.04525477 0.05401263 0.05584128 0.05689724]\n",
      "[ 31 101 104  44  71] [0.         0.0414804  0.0627646  0.07131184 0.07225641]\n",
      "[32 97 93 47 40] [0.         0.01626416 0.02262872 0.03010601 0.03183167]\n",
      "[ 33 140 153 160 106] [0.         0.08984388 0.09308458 0.10969533 0.11488106]\n",
      "[ 34  41 128  53 162] [0.         0.03231076 0.04263944 0.04426183 0.05120571]\n",
      "[ 35 118  90 102  63] [0.         0.00431751 0.00631305 0.00974514 0.01162118]\n",
      "[ 36 135  86 148 150] [0.         0.00987474 0.01059644 0.01710424 0.02280222]\n",
      "[ 37 144  29 159  38] [0.         0.00772204 0.01853962 0.04402465 0.04901738]\n",
      "[ 38 144  37  29 127] [0.         0.04653669 0.04901738 0.06134311 0.0727713 ]\n",
      "[ 39  68  67 131  88] [0.         0.01819557 0.02454754 0.03115836 0.03398095]\n",
      "[ 40 114  93  61  26] [0.         0.02107751 0.02710105 0.02808766 0.02901827]\n",
      "[ 41 128  34 139  53] [0.         0.02694282 0.03231076 0.04068815 0.04389139]\n",
      "[ 42  75 150 108  11] [0.         0.02395891 0.03518276 0.03708634 0.03856561]\n",
      "[ 43 151  28 126  18] [0.         0.02566806 0.04653865 0.05011915 0.05049114]\n",
      "[ 44  31 116  24 126] [0.         0.07131184 0.08532469 0.0881001  0.09665954]\n",
      "[ 45  98 130   9  14] [0.         0.22978259 0.2339038  0.27091754 0.27091754]\n",
      "[ 46  86 134  47 135] [0.         0.024472   0.02553468 0.02555095 0.02646642]\n",
      "[47 46 32 89 97] [0.         0.02555095 0.03010601 0.03320339 0.03901889]\n",
      "[ 48   1  96  53 110] [0.         0.03590839 0.04225838 0.05426349 0.06894055]\n",
      "[ 49 111   8 159 156] [0.         0.05581396 0.09615326 0.1026573  0.10613095]\n",
      "[ 50  78 146   2   5] [0.         0.0201994  0.02266331 0.02767354 0.02772578]\n",
      "[14 76 83  9 51] [0. 0. 0. 0. 0.]\n",
      "[ 52 131  97  67  93] [0.         0.03342167 0.0368638  0.03945148 0.04961821]\n",
      "[53 41 34 96 48] [0.         0.04389139 0.04426183 0.04891139 0.05426349]\n",
      "[ 54  68 133  89  20] [0.         0.0373405  0.04344055 0.04573644 0.04585859]\n",
      "[ 55 100  28  73  71] [0.         0.034033   0.04387504 0.04574557 0.04767669]\n",
      "[ 56  81 119 149 139] [0.         0.06206738 0.07380832 0.08255167 0.0825662 ]\n",
      "[14 76 83  9 51] [0. 0. 0. 0. 0.]\n",
      "[ 58  29 144  37 159] [0.         0.06132867 0.07179006 0.07756768 0.08338317]\n",
      "[ 59   6 109  14  83] [0.         0.11257771 0.11800691 0.26708722 0.26708722]\n",
      "[ 60  71 141 100 162] [0.         0.02330886 0.02817285 0.03195501 0.03631765]\n",
      "[ 61 114  40  26  17] [0.         0.01931103 0.02808766 0.02891364 0.0295907 ]\n",
      "[14 76 83  9 51] [0. 0. 0. 0. 0.]\n",
      "[63 90 65  9 51] [0.         0.00922104 0.0095912  0.01016541 0.01016541]\n",
      "[ 64 103  88  39  92] [0.         0.05007169 0.05314311 0.07215845 0.07697526]\n",
      "[ 65  63  16 108   7] [0.         0.0095912  0.012619   0.01640656 0.01674292]\n",
      "[ 66  91 157  94 120] [0.         0.03144995 0.0766613  0.08135997 0.08325575]\n",
      "[ 67 131  39  52  68] [0.         0.01399556 0.02454754 0.03945148 0.0406491 ]\n",
      "[68 39 54 67 88] [0.         0.01819557 0.0373405  0.0406491  0.04109521]\n",
      "[ 69  79 120  97  99] [0.         0.02390086 0.03620951 0.04526146 0.0478994 ]\n",
      "[ 70 107  50  73  78] [0.         0.02550363 0.05945842 0.06572083 0.06884904]\n",
      "[ 71  60 146 100  78] [0.         0.02330886 0.03223773 0.03415861 0.03610923]\n",
      "[ 72  55 128  71  41] [0.         0.06416027 0.06835641 0.06963633 0.07100154]\n",
      "[ 73  55  81 107 119] [0.         0.04574557 0.04786931 0.05361685 0.05557784]\n",
      "[ 74 113 157  95 120] [0.         0.00790644 0.02929893 0.03741639 0.044672  ]\n",
      "[ 75  42 129 122 112] [0.         0.02395891 0.02755511 0.0346398  0.03666725]\n",
      "[14 76 83  9 51] [0. 0. 0. 0. 0.]\n",
      "[ 77  88 103  67  52] [0.         0.07224595 0.07450875 0.07572843 0.0799914 ]\n",
      "[ 78  50   5 102 118] [0.         0.0201994  0.03217982 0.03229765 0.03279405]\n",
      "[ 79  69  18 154 120] [0.         0.02390086 0.04839795 0.05201815 0.05207028]\n",
      "[ 80 136  27 105 114] [0.         0.04205605 0.05093439 0.05478466 0.05487966]\n",
      "[ 81  73  55 119 151] [0.         0.04786931 0.0480325  0.04854572 0.05726398]\n",
      "[ 82 143 106 153 160] [0.         0.05566356 0.1883724  0.21766993 0.22142181]\n",
      "[14 76 83  9 51] [0. 0. 0. 0. 0.]\n",
      "[ 84 156  12 127  38] [0.         0.03592909 0.0507246  0.06261522 0.09773846]\n",
      "[ 85  13  18 105  40] [0.         0.02363286 0.03092451 0.04209157 0.04385251]\n",
      "[ 86 135  36 148 134] [0.         0.00315456 0.01059644 0.01403724 0.02155531]\n",
      "[14 76 83  9 51] [0. 0. 0. 0. 0.]\n",
      "[ 88 103  39  68  67] [0.         0.02636489 0.03398095 0.04109521 0.04243049]\n",
      "[ 89  46  47 162 104] [0.         0.03234495 0.03320339 0.04370532 0.04530437]\n",
      "[90 14 83 51  9] [0.         0.00617588 0.00617588 0.00617588 0.00617588]\n",
      "[ 91  66  94 157 139] [0.         0.03144995 0.05572555 0.07328545 0.07500915]\n",
      "[ 92 103  88  68  39] [0.         0.02791203 0.04253046 0.06883076 0.06990307]\n",
      "[93 32 40 26 97] [0.         0.02262872 0.02710105 0.02792147 0.02932826]\n",
      "[ 94  91  66 157  74] [0.         0.05572555 0.08135997 0.08446661 0.09049534]\n",
      "[ 95 157  74 113  93] [0.         0.03398548 0.03741639 0.03922039 0.04086156]\n",
      "[ 96  48  53   1 145] [0.         0.04225838 0.04891139 0.05347309 0.07733543]\n",
      "[ 97  32 131  93  52] [0.         0.01626416 0.02669378 0.02932826 0.0368638 ]\n",
      "[ 98 130  45  72  12] [0.         0.13410374 0.22978259 0.23030115 0.24184174]\n",
      "[ 99 139 151  18 157] [0.         0.03850445 0.04069363 0.04422205 0.04573242]\n",
      "[100  28 146  60  55] [0.         0.02615164 0.03129651 0.03195501 0.034033  ]\n",
      "[101  31 104  24  28] [0.         0.0414804  0.06179191 0.0654786  0.07678178]\n",
      "[102   5 118  35  90] [0.         0.00254774 0.00547825 0.00974514 0.01602058]\n",
      "[103  88  92  64  39] [0.         0.02636489 0.02791203 0.05007169 0.05957453]\n",
      "[104 148   2  28  89] [0.         0.03767453 0.04237783 0.04388332 0.04530437]\n",
      "[105  13 136 114  85] [0.         0.04091848 0.04112727 0.04180486 0.04209157]\n",
      "[106 160 153  33 140] [0.         0.03434778 0.09444523 0.11488106 0.13726339]\n",
      "[107  70  73  50  55] [0.         0.02550363 0.05361685 0.05658723 0.06533486]\n",
      "[108  11   7  16  65] [0.         0.01166571 0.01519203 0.01603249 0.01640656]\n",
      "[109   6  59   5 102] [0.         0.07762438 0.11800691 0.20292139 0.20308957]\n",
      "[110   1  48  96   4] [0.         0.03628179 0.06894055 0.079418   0.08942392]\n",
      "[111  49   8  84 156] [0.         0.05581396 0.05608372 0.10806681 0.11893039]\n",
      "[112 129 142  11 146] [0.         0.01336055 0.01476548 0.02422186 0.0246089 ]\n",
      "[113  74 157  95 120] [0.         0.00790644 0.02999069 0.03922039 0.04060541]\n",
      "[114  61  40  15 136] [0.         0.01931103 0.02107751 0.02757142 0.02975789]\n",
      "[115 137  83  14   9] [0.         0.15878395 0.19697942 0.19697942 0.19697942]\n",
      "[116 138  24 125 126] [0.         0.04289249 0.06993232 0.0717763  0.07295319]\n",
      "[117 132   3 152  70] [0.         0.12718132 0.15681458 0.20115351 0.22060918]\n",
      "[118  35 102   5  90] [0.         0.00431751 0.00547825 0.00794253 0.01062973]\n",
      "[119 126  81 151  73] [0.         0.04511041 0.04854572 0.05432862 0.05557784]\n",
      "[120  69 113 157  74] [0.         0.03620951 0.04060541 0.0428832  0.044672  ]\n",
      "[121  29 144 127  37] [0.         0.07365637 0.08075408 0.08175797 0.08296303]\n",
      "[122  17 150 142  11] [0.         0.01308851 0.02185551 0.02260221 0.02621039]\n",
      "[123  22 140  79 105] [0.         0.06663949 0.07131793 0.07785132 0.07790829]\n",
      "[124  20  46  86 135] [0.         0.01735415 0.03168023 0.03336529 0.03642468]\n",
      "[125 154  79  89  18] [0.         0.04605804 0.06022969 0.06370431 0.06770553]\n",
      "[126 151 119  43 162] [0.         0.04270761 0.04511041 0.05011915 0.05130973]\n",
      "[127 156  84  12 144] [0.         0.04958811 0.06261522 0.06762428 0.06968123]\n",
      "[128  41 139  34  10] [0.         0.02694282 0.03272263 0.04263944 0.04545835]\n",
      "[129 112 142  11  75] [0.         0.01336055 0.01653957 0.02697697 0.02755511]\n",
      "[130  98  72  31  44] [0.         0.13410374 0.14136704 0.17084632 0.17529854]\n",
      "[131  67  97  39  52] [0.         0.01399556 0.02669378 0.03115836 0.03342167]\n",
      "[132   3 117 152 107] [0.         0.12675238 0.12718132 0.13445899 0.16732549]\n",
      "[133  54  68  39  20] [0.         0.04344055 0.0481855  0.05672638 0.05901679]\n",
      "[134 135  86  36  46] [0.         0.02074799 0.02155531 0.02338945 0.02553468]\n",
      "[135  86  36 148 134] [0.         0.00315456 0.00987474 0.01347089 0.02074799]\n",
      "[136  27 114  15 105] [0.         0.02713125 0.02975789 0.03504611 0.04112727]\n",
      "[137 115  48  96   1] [0.         0.15878395 0.17135875 0.17333706 0.17459163]\n",
      "[138 116  24 125  54] [0.         0.04289249 0.06223916 0.06819362 0.0703566 ]\n",
      "[139 128  99  41 151] [0.         0.03272263 0.03850445 0.04068815 0.05072814]\n",
      "[140  19 123 153 136] [0.         0.0691753  0.07131793 0.07193171 0.07922791]\n",
      "[141   2 148  36 135] [0.         0.01825698 0.01951913 0.02485866 0.02706884]\n",
      "[142 112 129  11 122] [0.         0.01476548 0.01653957 0.01925543 0.02260221]\n",
      "[143  82 106 153 160] [0.         0.05566356 0.14013849 0.1694521  0.17155357]\n",
      "[144  37  29  38 159] [0.         0.00772204 0.0158096  0.04653669 0.04790065]\n",
      "[145  19 136  85 105] [0.         0.03757579 0.05039492 0.05219129 0.05316005]\n",
      "[146  50 112  25 141] [0.         0.02266331 0.0246089  0.02676822 0.02772924]\n",
      "[14 76 83  9 51] [0. 0. 0. 0. 0.]\n",
      "[148 135  86  36 141] [0.         0.01347089 0.01403724 0.01710424 0.01951913]\n",
      "[149 131  67  39  97] [0.         0.04377671 0.04385797 0.05238009 0.05453794]\n",
      "[150 122  36  11 108] [0.         0.02185551 0.02280222 0.02338088 0.02386338]\n",
      "[151  43  28 162  99] [0.         0.02566806 0.03397172 0.03702085 0.04069363]\n",
      "[152   3  70  81 107] [0.         0.12577626 0.12799259 0.13075207 0.13150322]\n",
      "[153 140  33  27 106] [0.         0.07193171 0.09308458 0.09368632 0.09444523]\n",
      "[154 125  79  18  69] [0.         0.04605804 0.05201815 0.06007097 0.07096016]\n",
      "[14 76 83  9 51] [0. 0. 0. 0. 0.]\n",
      "[156  12  84 127  37] [0.         0.02417308 0.03592909 0.04958811 0.08263721]\n",
      "[157  74 113  95 120] [0.         0.02929893 0.02999069 0.03398548 0.0428832 ]\n",
      "[14 76 83  9 51] [0. 0. 0. 0. 0.]\n",
      "[159  37  29 144  38] [0.         0.04402465 0.04458486 0.04790065 0.08117512]\n",
      "[160 106 153  33 140] [0.         0.03434778 0.09692355 0.10969533 0.13283128]\n",
      "[14 76 83  9 51] [0. 0. 0. 0. 0.]\n",
      "[162 100  60 151  46] [0.         0.03484555 0.03631765 0.03702085 0.03846786]\n"
     ]
    }
   ],
   "source": [
    "for i in range(len(distances)):\n",
    "    print(indices[i], distances[i])"
   ]
  },
  {
   "cell_type": "code",
   "execution_count": 54,
   "metadata": {},
   "outputs": [],
   "source": [
    "def recommended(problemId):\n",
    "    distances, indices = model.kneighbors(X_train)\n",
    "    for i in range(len(distances)):\n",
    "        if y_train.iloc[i] == problemId:\n",
    "            return indices[i]"
   ]
  },
  {
   "cell_type": "code",
   "execution_count": 55,
   "metadata": {},
   "outputs": [
    {
     "data": {
      "text/plain": [
       "array([ 26,  93,  61,  40, 114], dtype=int64)"
      ]
     },
     "execution_count": 55,
     "metadata": {},
     "output_type": "execute_result"
    }
   ],
   "source": [
    "recommended('6336b760ee62f10022c97c37')"
   ]
  },
  {
   "cell_type": "code",
   "execution_count": 56,
   "metadata": {},
   "outputs": [],
   "source": [
    "# df.iloc[recommended('6336b760ee62f10022c97c37')]"
   ]
  },
  {
   "cell_type": "code",
   "execution_count": 57,
   "metadata": {},
   "outputs": [
    {
     "data": {
      "text/html": [
       "<div>\n",
       "<style scoped>\n",
       "    .dataframe tbody tr th:only-of-type {\n",
       "        vertical-align: middle;\n",
       "    }\n",
       "\n",
       "    .dataframe tbody tr th {\n",
       "        vertical-align: top;\n",
       "    }\n",
       "\n",
       "    .dataframe thead th {\n",
       "        text-align: right;\n",
       "    }\n",
       "</style>\n",
       "<table border=\"1\" class=\"dataframe\">\n",
       "  <thead>\n",
       "    <tr style=\"text-align: right;\">\n",
       "      <th></th>\n",
       "      <th>problemId</th>\n",
       "      <th>C</th>\n",
       "      <th>C++</th>\n",
       "      <th>Go</th>\n",
       "      <th>Java</th>\n",
       "      <th>Javascript</th>\n",
       "      <th>Python</th>\n",
       "      <th>Python3</th>\n",
       "    </tr>\n",
       "  </thead>\n",
       "  <tbody>\n",
       "    <tr>\n",
       "      <th>202</th>\n",
       "      <td>6336b760ee62f10022c97c37</td>\n",
       "      <td>0.683354</td>\n",
       "      <td>0.759061</td>\n",
       "      <td>0.683354</td>\n",
       "      <td>0.683354</td>\n",
       "      <td>0.683354</td>\n",
       "      <td>0.683354</td>\n",
       "      <td>0.683354</td>\n",
       "    </tr>\n",
       "  </tbody>\n",
       "</table>\n",
       "</div>"
      ],
      "text/plain": [
       "                    problemId         C       C++        Go      Java  \\\n",
       "202  6336b760ee62f10022c97c37  0.683354  0.759061  0.683354  0.683354   \n",
       "\n",
       "     Javascript    Python   Python3  \n",
       "202    0.683354  0.683354  0.683354  "
      ]
     },
     "execution_count": 57,
     "metadata": {},
     "output_type": "execute_result"
    }
   ],
   "source": [
    "df[df.problemId == '6336b760ee62f10022c97c37']"
   ]
  },
  {
   "cell_type": "code",
   "execution_count": 58,
   "metadata": {},
   "outputs": [],
   "source": [
    "# df.iloc[recommended('6065e97c45a5d100227e07bd')]"
   ]
  },
  {
   "cell_type": "code",
   "execution_count": 59,
   "metadata": {},
   "outputs": [
    {
     "data": {
      "text/html": [
       "<div>\n",
       "<style scoped>\n",
       "    .dataframe tbody tr th:only-of-type {\n",
       "        vertical-align: middle;\n",
       "    }\n",
       "\n",
       "    .dataframe tbody tr th {\n",
       "        vertical-align: top;\n",
       "    }\n",
       "\n",
       "    .dataframe thead th {\n",
       "        text-align: right;\n",
       "    }\n",
       "</style>\n",
       "<table border=\"1\" class=\"dataframe\">\n",
       "  <thead>\n",
       "    <tr style=\"text-align: right;\">\n",
       "      <th></th>\n",
       "      <th>problemId</th>\n",
       "      <th>C</th>\n",
       "      <th>C++</th>\n",
       "      <th>Go</th>\n",
       "      <th>Java</th>\n",
       "      <th>Javascript</th>\n",
       "      <th>Python</th>\n",
       "      <th>Python3</th>\n",
       "    </tr>\n",
       "  </thead>\n",
       "  <tbody>\n",
       "    <tr>\n",
       "      <th>186</th>\n",
       "      <td>6257c4a8fb139700243c5214</td>\n",
       "      <td>0.622459</td>\n",
       "      <td>0.731059</td>\n",
       "      <td>0.622459</td>\n",
       "      <td>0.622459</td>\n",
       "      <td>0.622459</td>\n",
       "      <td>0.622459</td>\n",
       "      <td>0.622459</td>\n",
       "    </tr>\n",
       "  </tbody>\n",
       "</table>\n",
       "</div>"
      ],
      "text/plain": [
       "                    problemId         C       C++        Go      Java  \\\n",
       "186  6257c4a8fb139700243c5214  0.622459  0.731059  0.622459  0.622459   \n",
       "\n",
       "     Javascript    Python   Python3  \n",
       "186    0.622459  0.622459  0.622459  "
      ]
     },
     "execution_count": 59,
     "metadata": {},
     "output_type": "execute_result"
    }
   ],
   "source": [
    "# lowest value of Python3\n",
    "df[df.Python3 == df.Python3.min()]"
   ]
  },
  {
   "cell_type": "code",
   "execution_count": 60,
   "metadata": {},
   "outputs": [],
   "source": [
    "# df.iloc[recommended('6257c4a8fb139700243c5214')]"
   ]
  },
  {
   "cell_type": "code",
   "execution_count": 61,
   "metadata": {},
   "outputs": [],
   "source": [
    "kR = KNeighborsRegressor(n_neighbors=5, weights='distance')"
   ]
  },
  {
   "cell_type": "code",
   "execution_count": 62,
   "metadata": {},
   "outputs": [
    {
     "data": {
      "text/plain": [
       "KNeighborsRegressor(weights='distance')"
      ]
     },
     "execution_count": 62,
     "metadata": {},
     "output_type": "execute_result"
    }
   ],
   "source": [
    "kR.fit(X_train.iloc[:,1:2], y_train)"
   ]
  },
  {
   "cell_type": "code",
   "execution_count": 63,
   "metadata": {},
   "outputs": [],
   "source": [
    "# kR.predict(X_train.iloc[:,1:2])"
   ]
  },
  {
   "cell_type": "code",
   "execution_count": 64,
   "metadata": {},
   "outputs": [
    {
     "ename": "TypeError",
     "evalue": "Cannot index by location index with a non-integer key",
     "output_type": "error",
     "traceback": [
      "\u001b[1;31m---------------------------------------------------------------------------\u001b[0m",
      "\u001b[1;31mTypeError\u001b[0m                                 Traceback (most recent call last)",
      "\u001b[1;32mc:\\Users\\salman\\OneDrive\\Desktop\\Recommendation-system\\notebooks\\training\\training.ipynb Cell 21\u001b[0m in \u001b[0;36m<module>\u001b[1;34m\u001b[0m\n\u001b[1;32m----> <a href='vscode-notebook-cell:/c%3A/Users/salman/OneDrive/Desktop/Recommendation-system/notebooks/training/training.ipynb#X26sZmlsZQ%3D%3D?line=0'>1</a>\u001b[0m df\u001b[39m.\u001b[39;49miloc[recommended(\u001b[39m'\u001b[39;49m\u001b[39m6257c4a8fb139700243c5214\u001b[39;49m\u001b[39m'\u001b[39;49m)]\n",
      "File \u001b[1;32mc:\\Users\\salman\\AppData\\Local\\Programs\\Python\\Python39\\lib\\site-packages\\pandas\\core\\indexing.py:967\u001b[0m, in \u001b[0;36m_LocationIndexer.__getitem__\u001b[1;34m(self, key)\u001b[0m\n\u001b[0;32m    964\u001b[0m axis \u001b[39m=\u001b[39m \u001b[39mself\u001b[39m\u001b[39m.\u001b[39maxis \u001b[39mor\u001b[39;00m \u001b[39m0\u001b[39m\n\u001b[0;32m    966\u001b[0m maybe_callable \u001b[39m=\u001b[39m com\u001b[39m.\u001b[39mapply_if_callable(key, \u001b[39mself\u001b[39m\u001b[39m.\u001b[39mobj)\n\u001b[1;32m--> 967\u001b[0m \u001b[39mreturn\u001b[39;00m \u001b[39mself\u001b[39;49m\u001b[39m.\u001b[39;49m_getitem_axis(maybe_callable, axis\u001b[39m=\u001b[39;49maxis)\n",
      "File \u001b[1;32mc:\\Users\\salman\\AppData\\Local\\Programs\\Python\\Python39\\lib\\site-packages\\pandas\\core\\indexing.py:1517\u001b[0m, in \u001b[0;36m_iLocIndexer._getitem_axis\u001b[1;34m(self, key, axis)\u001b[0m\n\u001b[0;32m   1515\u001b[0m key \u001b[39m=\u001b[39m item_from_zerodim(key)\n\u001b[0;32m   1516\u001b[0m \u001b[39mif\u001b[39;00m \u001b[39mnot\u001b[39;00m is_integer(key):\n\u001b[1;32m-> 1517\u001b[0m     \u001b[39mraise\u001b[39;00m \u001b[39mTypeError\u001b[39;00m(\u001b[39m\"\u001b[39m\u001b[39mCannot index by location index with a non-integer key\u001b[39m\u001b[39m\"\u001b[39m)\n\u001b[0;32m   1519\u001b[0m \u001b[39m# validate the location\u001b[39;00m\n\u001b[0;32m   1520\u001b[0m \u001b[39mself\u001b[39m\u001b[39m.\u001b[39m_validate_integer(key, axis)\n",
      "\u001b[1;31mTypeError\u001b[0m: Cannot index by location index with a non-integer key"
     ]
    }
   ],
   "source": [
    "df.iloc[recommended('6257c4a8fb139700243c5214')]"
   ]
  },
  {
   "cell_type": "code",
   "execution_count": null,
   "metadata": {},
   "outputs": [
    {
     "data": {
      "text/plain": [
       "dtype('O')"
      ]
     },
     "execution_count": 42,
     "metadata": {},
     "output_type": "execute_result"
    }
   ],
   "source": [
    "df.problemId.dtype"
   ]
  },
  {
   "cell_type": "code",
   "execution_count": null,
   "metadata": {},
   "outputs": [
    {
     "name": "stderr",
     "output_type": "stream",
     "text": [
      "c:\\Users\\salman\\AppData\\Local\\Programs\\Python\\Python39\\lib\\site-packages\\sklearn\\base.py:441: UserWarning: X does not have valid feature names, but KNeighborsRegressor was fitted with feature names\n",
      "  warnings.warn(\n"
     ]
    },
    {
     "ename": "TypeError",
     "evalue": "can't multiply sequence by non-int of type 'float'",
     "output_type": "error",
     "traceback": [
      "\u001b[1;31m---------------------------------------------------------------------------\u001b[0m",
      "\u001b[1;31mTypeError\u001b[0m                                 Traceback (most recent call last)",
      "\u001b[1;32mc:\\Users\\salman\\OneDrive\\Desktop\\Recommendation-system\\notebooks\\training\\training.ipynb Cell 23\u001b[0m in \u001b[0;36m<module>\u001b[1;34m\u001b[0m\n\u001b[0;32m      <a href='vscode-notebook-cell:/c%3A/Users/salman/OneDrive/Desktop/Recommendation-system/notebooks/training/training.ipynb#X31sZmlsZQ%3D%3D?line=2'>3</a>\u001b[0m kR \u001b[39m=\u001b[39m KNeighborsRegressor(n_neighbors\u001b[39m=\u001b[39m\u001b[39m5\u001b[39m, weights\u001b[39m=\u001b[39m\u001b[39m'\u001b[39m\u001b[39mdistance\u001b[39m\u001b[39m'\u001b[39m)\n\u001b[0;32m      <a href='vscode-notebook-cell:/c%3A/Users/salman/OneDrive/Desktop/Recommendation-system/notebooks/training/training.ipynb#X31sZmlsZQ%3D%3D?line=3'>4</a>\u001b[0m kR\u001b[39m.\u001b[39mfit(X_train\u001b[39m.\u001b[39miloc[:,i:i\u001b[39m+\u001b[39m\u001b[39m1\u001b[39m], y_train)\n\u001b[1;32m----> <a href='vscode-notebook-cell:/c%3A/Users/salman/OneDrive/Desktop/Recommendation-system/notebooks/training/training.ipynb#X31sZmlsZQ%3D%3D?line=4'>5</a>\u001b[0m \u001b[39mprint\u001b[39m(kR\u001b[39m.\u001b[39;49mpredict(X_train\u001b[39m.\u001b[39;49miloc[:,i:i\u001b[39m+\u001b[39;49m\u001b[39m1\u001b[39;49m]))\n",
      "File \u001b[1;32mc:\\Users\\salman\\AppData\\Local\\Programs\\Python\\Python39\\lib\\site-packages\\sklearn\\neighbors\\_regression.py:246\u001b[0m, in \u001b[0;36mKNeighborsRegressor.predict\u001b[1;34m(self, X)\u001b[0m\n\u001b[0;32m    243\u001b[0m     denom \u001b[39m=\u001b[39m np\u001b[39m.\u001b[39msum(weights, axis\u001b[39m=\u001b[39m\u001b[39m1\u001b[39m)\n\u001b[0;32m    245\u001b[0m     \u001b[39mfor\u001b[39;00m j \u001b[39min\u001b[39;00m \u001b[39mrange\u001b[39m(_y\u001b[39m.\u001b[39mshape[\u001b[39m1\u001b[39m]):\n\u001b[1;32m--> 246\u001b[0m         num \u001b[39m=\u001b[39m np\u001b[39m.\u001b[39msum(_y[neigh_ind, j] \u001b[39m*\u001b[39;49m weights, axis\u001b[39m=\u001b[39m\u001b[39m1\u001b[39m)\n\u001b[0;32m    247\u001b[0m         y_pred[:, j] \u001b[39m=\u001b[39m num \u001b[39m/\u001b[39m denom\n\u001b[0;32m    249\u001b[0m \u001b[39mif\u001b[39;00m \u001b[39mself\u001b[39m\u001b[39m.\u001b[39m_y\u001b[39m.\u001b[39mndim \u001b[39m==\u001b[39m \u001b[39m1\u001b[39m:\n",
      "\u001b[1;31mTypeError\u001b[0m: can't multiply sequence by non-int of type 'float'"
     ]
    }
   ],
   "source": [
    "# apply knn regression to all columns\n",
    "for i in range(1,8):\n",
    "    kR = KNeighborsRegressor(n_neighbors=5, weights='distance')\n",
    "    kR.fit(X_train.iloc[:,i:i+1], y_train)\n",
    "    print(kR.predict(X_train.iloc[:,i:i+1]))"
   ]
  },
  {
   "cell_type": "code",
   "execution_count": null,
   "metadata": {},
   "outputs": [],
   "source": [
    "# count vectorizer\n",
    "from sklearn.feature_extraction.text import CountVectorizer\n",
    "from sklearn.metrics.pairwise import cosine_similarity\n",
    "from sklearn.metrics.pairwise import euclidean_distances\n",
    "from sklearn.metrics.pairwise import manhattan_distances\n",
    "from sklearn.metrics.pairwise import pairwise_distances\n",
    "from sklearn.metrics.pairwise import linear_kernel\n",
    "from sklearn.metrics.pairwise import polynomial_kernel\n",
    "from sklearn.metrics.pairwise import rbf_kernel\n",
    "from sklearn.metrics.pairwise import sigmoid_kernel\n"
   ]
  },
  {
   "cell_type": "code",
   "execution_count": null,
   "metadata": {},
   "outputs": [],
   "source": [
    "cv = CountVectorizer()"
   ]
  },
  {
   "cell_type": "code",
   "execution_count": null,
   "metadata": {},
   "outputs": [],
   "source": [
    "cv_fit=cv.fit_transform(df['problemId'])"
   ]
  },
  {
   "cell_type": "code",
   "execution_count": null,
   "metadata": {},
   "outputs": [
    {
     "data": {
      "text/plain": [
       "array([[1., 0., 0., ..., 0., 0., 0.],\n",
       "       [0., 1., 0., ..., 0., 0., 0.],\n",
       "       [0., 0., 1., ..., 0., 0., 0.],\n",
       "       ...,\n",
       "       [0., 0., 0., ..., 1., 0., 0.],\n",
       "       [0., 0., 0., ..., 0., 1., 0.],\n",
       "       [0., 0., 0., ..., 0., 0., 1.]])"
      ]
     },
     "execution_count": 247,
     "metadata": {},
     "output_type": "execute_result"
    }
   ],
   "source": [
    "# apply cosine similarity\n",
    "cosine_sim = cosine_similarity(cv_fit)\n",
    "cosine_sim"
   ]
  },
  {
   "cell_type": "code",
   "execution_count": null,
   "metadata": {},
   "outputs": [
    {
     "name": "stderr",
     "output_type": "stream",
     "text": [
      "c:\\Users\\salman\\AppData\\Local\\Programs\\Python\\Python39\\lib\\site-packages\\sklearn\\base.py:441: UserWarning: X does not have valid feature names, but KNeighborsRegressor was fitted with feature names\n",
      "  warnings.warn(\n"
     ]
    },
    {
     "ename": "ValueError",
     "evalue": "dimension mismatch",
     "output_type": "error",
     "traceback": [
      "\u001b[1;31m---------------------------------------------------------------------------\u001b[0m",
      "\u001b[1;31mValueError\u001b[0m                                Traceback (most recent call last)",
      "\u001b[1;32mc:\\Users\\salman\\OneDrive\\Desktop\\Recommendation-system\\notebooks\\training\\training.ipynb Cell 28\u001b[0m in \u001b[0;36m<module>\u001b[1;34m\u001b[0m\n\u001b[0;32m      <a href='vscode-notebook-cell:/c%3A/Users/salman/OneDrive/Desktop/Recommendation-system/notebooks/training/training.ipynb#X60sZmlsZQ%3D%3D?line=0'>1</a>\u001b[0m kR \u001b[39m=\u001b[39m KNeighborsRegressor(n_neighbors\u001b[39m=\u001b[39m\u001b[39m5\u001b[39m, weights\u001b[39m=\u001b[39m\u001b[39m'\u001b[39m\u001b[39mdistance\u001b[39m\u001b[39m'\u001b[39m)\n\u001b[0;32m      <a href='vscode-notebook-cell:/c%3A/Users/salman/OneDrive/Desktop/Recommendation-system/notebooks/training/training.ipynb#X60sZmlsZQ%3D%3D?line=1'>2</a>\u001b[0m kR\u001b[39m.\u001b[39mfit(df\u001b[39m.\u001b[39mdrop(\u001b[39m'\u001b[39m\u001b[39mproblemId\u001b[39m\u001b[39m'\u001b[39m, axis\u001b[39m=\u001b[39m\u001b[39m1\u001b[39m), cv_fit)\n\u001b[1;32m----> <a href='vscode-notebook-cell:/c%3A/Users/salman/OneDrive/Desktop/Recommendation-system/notebooks/training/training.ipynb#X60sZmlsZQ%3D%3D?line=2'>3</a>\u001b[0m \u001b[39mprint\u001b[39m(kR\u001b[39m.\u001b[39;49mpredict(df\u001b[39m.\u001b[39;49mdrop(\u001b[39m'\u001b[39;49m\u001b[39mproblemId\u001b[39;49m\u001b[39m'\u001b[39;49m, axis\u001b[39m=\u001b[39;49m\u001b[39m1\u001b[39;49m)))\n",
      "File \u001b[1;32mc:\\Users\\salman\\AppData\\Local\\Programs\\Python\\Python39\\lib\\site-packages\\sklearn\\neighbors\\_regression.py:246\u001b[0m, in \u001b[0;36mKNeighborsRegressor.predict\u001b[1;34m(self, X)\u001b[0m\n\u001b[0;32m    243\u001b[0m     denom \u001b[39m=\u001b[39m np\u001b[39m.\u001b[39msum(weights, axis\u001b[39m=\u001b[39m\u001b[39m1\u001b[39m)\n\u001b[0;32m    245\u001b[0m     \u001b[39mfor\u001b[39;00m j \u001b[39min\u001b[39;00m \u001b[39mrange\u001b[39m(_y\u001b[39m.\u001b[39mshape[\u001b[39m1\u001b[39m]):\n\u001b[1;32m--> 246\u001b[0m         num \u001b[39m=\u001b[39m np\u001b[39m.\u001b[39msum(_y[neigh_ind, j] \u001b[39m*\u001b[39;49m weights, axis\u001b[39m=\u001b[39m\u001b[39m1\u001b[39m)\n\u001b[0;32m    247\u001b[0m         y_pred[:, j] \u001b[39m=\u001b[39m num \u001b[39m/\u001b[39m denom\n\u001b[0;32m    249\u001b[0m \u001b[39mif\u001b[39;00m \u001b[39mself\u001b[39m\u001b[39m.\u001b[39m_y\u001b[39m.\u001b[39mndim \u001b[39m==\u001b[39m \u001b[39m1\u001b[39m:\n",
      "File \u001b[1;32mc:\\Users\\salman\\AppData\\Local\\Programs\\Python\\Python39\\lib\\site-packages\\scipy\\sparse\\base.py:516\u001b[0m, in \u001b[0;36mspmatrix.__mul__\u001b[1;34m(self, other)\u001b[0m\n\u001b[0;32m    511\u001b[0m \u001b[39melif\u001b[39;00m other\u001b[39m.\u001b[39mndim \u001b[39m==\u001b[39m \u001b[39m2\u001b[39m:\n\u001b[0;32m    512\u001b[0m     \u001b[39m##\u001b[39;00m\n\u001b[0;32m    513\u001b[0m     \u001b[39m# dense 2D array or matrix (\"multivector\")\u001b[39;00m\n\u001b[0;32m    515\u001b[0m     \u001b[39mif\u001b[39;00m other\u001b[39m.\u001b[39mshape[\u001b[39m0\u001b[39m] \u001b[39m!=\u001b[39m \u001b[39mself\u001b[39m\u001b[39m.\u001b[39mshape[\u001b[39m1\u001b[39m]:\n\u001b[1;32m--> 516\u001b[0m         \u001b[39mraise\u001b[39;00m \u001b[39mValueError\u001b[39;00m(\u001b[39m'\u001b[39m\u001b[39mdimension mismatch\u001b[39m\u001b[39m'\u001b[39m)\n\u001b[0;32m    518\u001b[0m     result \u001b[39m=\u001b[39m \u001b[39mself\u001b[39m\u001b[39m.\u001b[39m_mul_multivector(np\u001b[39m.\u001b[39masarray(other))\n\u001b[0;32m    520\u001b[0m     \u001b[39mif\u001b[39;00m \u001b[39misinstance\u001b[39m(other, np\u001b[39m.\u001b[39mmatrix):\n",
      "\u001b[1;31mValueError\u001b[0m: dimension mismatch"
     ]
    }
   ],
   "source": [
    "\n",
    "kR = KNeighborsRegressor(n_neighbors=5, weights='distance')\n",
    "kR.fit(df.drop('problemId', axis=1), cv_fit)\n",
    "print(kR.predict(df.drop('problemId', axis=1)))"
   ]
  },
  {
   "cell_type": "code",
   "execution_count": null,
   "metadata": {},
   "outputs": [],
   "source": []
  }
 ],
 "metadata": {
  "kernelspec": {
   "display_name": "Python 3",
   "language": "python",
   "name": "python3"
  },
  "language_info": {
   "codemirror_mode": {
    "name": "ipython",
    "version": 3
   },
   "file_extension": ".py",
   "mimetype": "text/x-python",
   "name": "python",
   "nbconvert_exporter": "python",
   "pygments_lexer": "ipython3",
   "version": "3.9.7"
  },
  "orig_nbformat": 4,
  "vscode": {
   "interpreter": {
    "hash": "e58b358bfea57fbec6fce8fd709863752c38546663e0f6dbe19f4a200e737f6c"
   }
  }
 },
 "nbformat": 4,
 "nbformat_minor": 2
}
